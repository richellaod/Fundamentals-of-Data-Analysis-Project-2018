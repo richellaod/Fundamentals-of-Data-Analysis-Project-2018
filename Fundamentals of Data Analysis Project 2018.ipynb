{
 "cells": [
  {
   "cell_type": "markdown",
   "metadata": {},
   "source": [
    "# Fundamentals of Data Analysis Project 2018\n",
    "\n",
    "## Richella O'Driscoll\n",
    "\n",
    "## H.Dip in Data Analytics\n",
    "\n",
    "## Problem Statement\n",
    "\n",
    "The following assignment concerns the boxplot function. There are four distinct tasks which are carried out below:\n",
    "* Summarise the history of the box plot and situations where it is used.\n",
    "* Demonstrate the use of the box plot using data of my choice.\n",
    "* Explain any relevant terminology such as the terms quartile and percentile.\n",
    "* Compare the box plot to alternatives.\n",
    "\n"
   ]
  },
  {
   "cell_type": "code",
   "execution_count": null,
   "metadata": {
    "collapsed": true
   },
   "outputs": [],
   "source": []
  }
 ],
 "metadata": {
  "kernelspec": {
   "display_name": "Python 3",
   "language": "python",
   "name": "python3"
  },
  "language_info": {
   "codemirror_mode": {
    "name": "ipython",
    "version": 3
   },
   "file_extension": ".py",
   "mimetype": "text/x-python",
   "name": "python",
   "nbconvert_exporter": "python",
   "pygments_lexer": "ipython3",
   "version": "3.6.3"
  }
 },
 "nbformat": 4,
 "nbformat_minor": 2
}
