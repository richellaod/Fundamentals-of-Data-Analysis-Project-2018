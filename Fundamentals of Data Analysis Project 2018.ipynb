{
 "cells": [
  {
   "cell_type": "markdown",
   "metadata": {},
   "source": [
    "# Fundamentals of Data Analysis Project 2018\n",
    "\n",
    "## Richella O'Driscoll\n",
    "\n",
    "## H.Dip in Data Analytics\n",
    "\n",
    "## Problem Statement\n",
    "\n",
    "The following assignment concerns the boxplot function. There are four distinct tasks which are carried out below:\n",
    "* Summarise the history of the box plot and situations where it is used.\n",
    "* Demonstrate the use of the box plot using data of my choice.\n",
    "* Explain any relevant terminology such as the terms quartile and percentile.\n",
    "* Compare the box plot to alternatives.\n",
    "\n"
   ]
  },
  {
   "cell_type": "markdown",
   "metadata": {},
   "source": [
    "## The Box-Plot\n",
    "\n",
    "\n",
    "It was John Tukey (a Statiscian at Princeton University) who invented the box and whiskers plot as part of his toolkit for exploratory data analysis in 1970, but it was not until 1977 when his book was formally published that it became more widely known. The boxplot is a compact distributional summary, that shows less detail than a histogram or kernel density, and also takes up less space than a histogram. Boxplots use robust summary statistics that are always located at actual data points, quick to compute, and have no tuning parameters. Box plots can be extremely useful for comparing distributions across different groups.\n",
    "\n",
    "\n",
    "A boxplot which can also be referred to as a box and whiskers plot is a plot which can be used to display the spread of a set of data. There are a number of ways which we can measure this spread of data which include the mean of the set of data and also interquartile range of this data. The measures which are used for the centre of the box plot include mean and median of the data set.\n",
    "\n",
    "The box and whiskers data chart displays to us how the data set is spread out. There are usually five key measures which are used in the chart these include the minimum which is always the smallest number that is in the data set – we can see that this is displayed at the extreme left of the chart. Then the first quartile is at the left of the chart. The median is in the very centre of the chart. The third quartile is at the very right of the chart and then the maximum is the largest number in the set of data and is at the extreme right of the chart."
   ]
  },
  {
   "cell_type": "markdown",
   "metadata": {},
   "source": [
    "\n",
    "## My Analysis\n",
    "\n",
    "In order for me to compete this assignment, there were a number of resources I needed. These included:\n",
    "* Jupyter Notebook\n",
    "* Github\n",
    "* Python version 3.6 downloaded through Anaconda3\n",
    "* Iris Data Set\n",
    "\n",
    "\n",
    "\n",
    "After some research I realised that I would also need to ensure that there was a number of other libraries installed on Python so that I would be able to complete this assignment. These included matplotlib, numpy and pandas. From that I then had to ensure that other modules and functions were installed which would help me to extract the results from the Iris Data set and also give me the ability to create different types of charts along with the box plot which I will use to display the data:"
   ]
  },
  {
   "cell_type": "code",
   "execution_count": 2,
   "metadata": {
    "collapsed": true
   },
   "outputs": [],
   "source": [
    "import pandas as pd \n",
    "import matplotlib.pyplot as plt  \n",
    "import seaborn as sns  \n",
    "import numpy as np  \n"
   ]
  },
  {
   "cell_type": "code",
   "execution_count": null,
   "metadata": {
    "collapsed": true
   },
   "outputs": [],
   "source": []
  }
 ],
 "metadata": {
  "kernelspec": {
   "display_name": "Python 3",
   "language": "python",
   "name": "python3"
  },
  "language_info": {
   "codemirror_mode": {
    "name": "ipython",
    "version": 3
   },
   "file_extension": ".py",
   "mimetype": "text/x-python",
   "name": "python",
   "nbconvert_exporter": "python",
   "pygments_lexer": "ipython3",
   "version": "3.6.3"
  }
 },
 "nbformat": 4,
 "nbformat_minor": 2
}
